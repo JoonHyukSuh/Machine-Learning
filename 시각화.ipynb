{
 "cells": [
  {
   "cell_type": "code",
   "execution_count": 1,
   "metadata": {},
   "outputs": [],
   "source": [
    "import numpy as np\n",
    "import pandas as pd\n",
    "import seaborn as sns\n",
    "import matplotlib.pyplot as plt\n",
    "import os\n",
    "import warnings\n",
    "warnings.filterwarnings(action='ignore')\n",
    "from matplotlib import rc, font_manager\n",
    "if os.name == 'posix': \n",
    "    plt.rc('font', family='AppleGothic')\n",
    "elif os.name == 'nt': \n",
    "    plt.rc('font', family='Malgun Gothic')\n",
    "\n",
    "plt.rc('axes', unicode_minus=False) \n",
    "\n",
    "%config InlineBackend.figure_format = 'retina'"
   ]
  },
  {
   "cell_type": "code",
   "execution_count": 2,
   "metadata": {},
   "outputs": [
    {
     "data": {
      "text/plain": [
       "'.'"
      ]
     },
     "execution_count": 2,
     "metadata": {},
     "output_type": "execute_result"
    }
   ],
   "source": [
    "os.curdir"
   ]
  },
  {
   "cell_type": "code",
   "execution_count": 3,
   "metadata": {},
   "outputs": [
    {
     "data": {
      "text/html": [
       "<div>\n",
       "<style scoped>\n",
       "    .dataframe tbody tr th:only-of-type {\n",
       "        vertical-align: middle;\n",
       "    }\n",
       "\n",
       "    .dataframe tbody tr th {\n",
       "        vertical-align: top;\n",
       "    }\n",
       "\n",
       "    .dataframe thead th {\n",
       "        text-align: right;\n",
       "    }\n",
       "</style>\n",
       "<table border=\"1\" class=\"dataframe\">\n",
       "  <thead>\n",
       "    <tr style=\"text-align: right;\">\n",
       "      <th></th>\n",
       "      <th>batter_id</th>\n",
       "      <th>batter_name</th>\n",
       "      <th>year</th>\n",
       "      <th>team</th>\n",
       "      <th>avg</th>\n",
       "      <th>G</th>\n",
       "      <th>AB</th>\n",
       "      <th>R</th>\n",
       "      <th>H</th>\n",
       "      <th>2B</th>\n",
       "      <th>...</th>\n",
       "      <th>GDP</th>\n",
       "      <th>SLG</th>\n",
       "      <th>OBP</th>\n",
       "      <th>E</th>\n",
       "      <th>height/weight</th>\n",
       "      <th>year_born</th>\n",
       "      <th>position</th>\n",
       "      <th>career</th>\n",
       "      <th>starting_salary</th>\n",
       "      <th>OPS</th>\n",
       "    </tr>\n",
       "  </thead>\n",
       "  <tbody>\n",
       "    <tr>\n",
       "      <th>601</th>\n",
       "      <td>82</td>\n",
       "      <td>나종덕</td>\n",
       "      <td>2017</td>\n",
       "      <td>롯데</td>\n",
       "      <td>0.000</td>\n",
       "      <td>5</td>\n",
       "      <td>4</td>\n",
       "      <td>0</td>\n",
       "      <td>0</td>\n",
       "      <td>0</td>\n",
       "      <td>...</td>\n",
       "      <td>0</td>\n",
       "      <td>0.000</td>\n",
       "      <td>0.000</td>\n",
       "      <td>0</td>\n",
       "      <td>185cm/99kg</td>\n",
       "      <td>1998년 03월 16일</td>\n",
       "      <td>포수(우투우타)</td>\n",
       "      <td>무학초-창원신월중-용마고</td>\n",
       "      <td>15000만원</td>\n",
       "      <td>0.000</td>\n",
       "    </tr>\n",
       "    <tr>\n",
       "      <th>602</th>\n",
       "      <td>82</td>\n",
       "      <td>나종덕</td>\n",
       "      <td>2018</td>\n",
       "      <td>롯데</td>\n",
       "      <td>0.124</td>\n",
       "      <td>106</td>\n",
       "      <td>177</td>\n",
       "      <td>15</td>\n",
       "      <td>22</td>\n",
       "      <td>3</td>\n",
       "      <td>...</td>\n",
       "      <td>2</td>\n",
       "      <td>0.175</td>\n",
       "      <td>0.201</td>\n",
       "      <td>4</td>\n",
       "      <td>185cm/99kg</td>\n",
       "      <td>1998년 03월 16일</td>\n",
       "      <td>포수(우투우타)</td>\n",
       "      <td>무학초-창원신월중-용마고</td>\n",
       "      <td>15000만원</td>\n",
       "      <td>0.376</td>\n",
       "    </tr>\n",
       "  </tbody>\n",
       "</table>\n",
       "<p>2 rows × 29 columns</p>\n",
       "</div>"
      ],
      "text/plain": [
       "     batter_id batter_name  year team    avg    G   AB   R   H  2B  ...  GDP  \\\n",
       "601         82         나종덕  2017   롯데  0.000    5    4   0   0   0  ...    0   \n",
       "602         82         나종덕  2018   롯데  0.124  106  177  15  22   3  ...    2   \n",
       "\n",
       "       SLG    OBP  E  height/weight      year_born  position         career  \\\n",
       "601  0.000  0.000  0     185cm/99kg  1998년 03월 16일  포수(우투우타)  무학초-창원신월중-용마고   \n",
       "602  0.175  0.201  4     185cm/99kg  1998년 03월 16일  포수(우투우타)  무학초-창원신월중-용마고   \n",
       "\n",
       "     starting_salary    OPS  \n",
       "601          15000만원  0.000  \n",
       "602          15000만원  0.376  \n",
       "\n",
       "[2 rows x 29 columns]"
      ]
     },
     "execution_count": 3,
     "metadata": {},
     "output_type": "execute_result"
    }
   ],
   "source": [
    "regular=pd.read_csv(\"Regular_Season_Batter.csv\")\n",
    "regular.loc[regular['batter_name'] == '나종덕']"
   ]
  },
  {
   "cell_type": "code",
   "execution_count": 4,
   "metadata": {},
   "outputs": [
    {
     "data": {
      "text/plain": [
       "Index(['batter_id', 'batter_name', 'year', 'team', 'avg', 'G', 'AB', 'R', 'H',\n",
       "       '2B', '3B', 'HR', 'TB', 'RBI', 'SB', 'CS', 'BB', 'HBP', 'SO', 'GDP',\n",
       "       'SLG', 'OBP', 'E', 'height/weight', 'year_born', 'position', 'career',\n",
       "       'starting_salary', 'OPS'],\n",
       "      dtype='object')"
      ]
     },
     "execution_count": 4,
     "metadata": {},
     "output_type": "execute_result"
    }
   ],
   "source": [
    "regular.columns"
   ]
  },
  {
   "cell_type": "code",
   "execution_count": 5,
   "metadata": {},
   "outputs": [
    {
     "data": {
      "text/plain": [
       "<matplotlib.collections.PathCollection at 0x1a5429d8f70>"
      ]
     },
     "execution_count": 5,
     "metadata": {},
     "output_type": "execute_result"
    },
    {
     "data": {
      "image/png": "[encoded data removed]",
      "text/plain": [
       "<Figure size 432x288 with 1 Axes>"
      ]
     },
     "metadata": {
      "image/png": {
       "height": 249,
       "width": 367
      },
      "needs_background": "light"
     },
     "output_type": "display_data"
    }
   ],
   "source": [
    "plt.scatter(regular.loc[regular['batter_name']=='양의지',]['year'],regular.loc[regular['batter_name']=='양의지',]['BB']) #와닿지 않음"
   ]
  },
  {
   "cell_type": "code",
   "execution_count": 39,
   "metadata": {},
   "outputs": [
    {
     "data": {
      "text/plain": [
       "Text(0.5, 1.0, '양의지 통산 OPS')"
      ]
     },
     "execution_count": 39,
     "metadata": {},
     "output_type": "execute_result"
    },
    {
     "data": {
      "image/png": "[encoded data removed]",
      "text/plain": [
       "<Figure size 432x288 with 1 Axes>"
      ]
     },
     "metadata": {
      "image/png": {
       "height": 279,
       "width": 369
      },
      "needs_background": "light"
     },
     "output_type": "display_data"
    }
   ],
   "source": [
    "b=regular.loc[regular['batter_name']=='양의지',].groupby('year')['OPS'].mean().plot()\n",
    "b.set_title(\"양의지 통산 OPS\")"
   ]
  },
  {
   "cell_type": "code",
   "execution_count": 38,
   "metadata": {},
   "outputs": [
    {
     "data": {
      "text/plain": [
       "Text(0.5, 1.0, '양의지 통산 타율')"
      ]
     },
     "execution_count": 38,
     "metadata": {},
     "output_type": "execute_result"
    },
    {
     "data": {
      "image/png": "[encoded data removed]",
      "text/plain": [
       "<Figure size 432x288 with 1 Axes>"
      ]
     },
     "metadata": {
      "image/png": {
       "height": 279,
       "width": 374
      },
      "needs_background": "light"
     },
     "output_type": "display_data"
    }
   ],
   "source": [
    "a= regular.loc[regular['batter_name']=='양의지',].groupby('year')['avg'].mean().plot()\n",
    "a.set_title('양의지 통산 타율')"
   ]
  },
  {
   "cell_type": "code",
   "execution_count": 40,
   "metadata": {},
   "outputs": [
    {
     "name": "stdout",
     "output_type": "stream",
     "text": [
      "0.42406761190587683\n"
     ]
    },
    {
     "data": {
      "image/png": "[encoded data removed]",
      "text/plain": [
       "<Figure size 432x288 with 1 Axes>"
      ]
     },
     "metadata": {
      "image/png": {
       "height": 279,
       "width": 392
      },
      "needs_background": "light"
     },
     "output_type": "display_data"
    }
   ],
   "source": [
    "var = 'avg'\n",
    "x=[]\n",
    "y=[]\n",
    "regular1 = regular.loc[regular['AB']>=100,]\n",
    "for name in regular1['batter_name'].unique():\n",
    "    a = regular1.loc[regular1['batter_name']==name,]\n",
    "    k=[]\n",
    "    for i in a['year'].unique():\n",
    "        if (a['year']==i+1).sum()>0:\n",
    "            k.append(i)\n",
    "    for i in k:\n",
    "        x.append(a.loc[a['year']==i,var].iloc[0])\n",
    "        y.append(a.loc[a['year']==i+1,var].iloc[0])\n",
    "plt.scatter(x,y)\n",
    "plt.title(var)\n",
    "plt.xlabel('n년도의 타율')\n",
    "plt.ylabel('(n+1)년도의 타율')\n",
    "print(pd.Series(x).corr(pd.Series(y)))"
   ]
  },
  {
   "cell_type": "code",
   "execution_count": 41,
   "metadata": {},
   "outputs": [
    {
     "name": "stdout",
     "output_type": "stream",
     "text": [
      "0.5967835522092053\n"
     ]
    },
    {
     "data": {
      "image/png": "[encoded data removed]",
      "text/plain": [
       "<Figure size 432x288 with 1 Axes>"
      ]
     },
     "metadata": {
      "image/png": {
       "height": 279,
       "width": 383
      },
      "needs_background": "light"
     },
     "output_type": "display_data"
    }
   ],
   "source": [
    "var = 'OPS'\n",
    "x=[]\n",
    "y=[]\n",
    "regular1 = regular.loc[regular['AB']>=100,]\n",
    "for name in regular1['batter_name'].unique():\n",
    "    a = regular1.loc[regular1['batter_name']==name,]\n",
    "    k=[]\n",
    "    for i in a['year'].unique():\n",
    "        if (a['year']==i+1).sum()>0:\n",
    "            k.append(i)\n",
    "    for i in k:\n",
    "        x.append(a.loc[a['year']==i,var].iloc[0])\n",
    "        y.append(a.loc[a['year']==i+1,var].iloc[0])\n",
    "plt.scatter(x,y)\n",
    "plt.title(var)\n",
    "plt.xlabel('n년도의 OPS')\n",
    "plt.ylabel('(n+1)년도의 OPS')\n",
    "print(pd.Series(x).corr(pd.Series(y)))"
   ]
  },
  {
   "cell_type": "code",
   "execution_count": 10,
   "metadata": {},
   "outputs": [],
   "source": [
    "def get_self_corr(var):\n",
    "    x=[]\n",
    "    y=[]\n",
    "    regular1 = regular.loc[regular['AB']>=100,]\n",
    "    for name in regular1['batter_name'].unique():\n",
    "        a = regular1.loc[regular1['batter_name']==name,]\n",
    "        k=[]\n",
    "        for i in a['year'].unique():\n",
    "            if (a['year']==i+1).sum()>0:\n",
    "                k.append(i)\n",
    "        for i in k:\n",
    "            x.append(a.loc[a['year']==i,var].iloc[0])\n",
    "            y.append(a.loc[a['year']==i+1,var].iloc[0])\n",
    "\n",
    "    return(pd.Series(x).corr(pd.Series(y)))"
   ]
  },
  {
   "cell_type": "code",
   "execution_count": 11,
   "metadata": {},
   "outputs": [
    {
     "data": {
      "text/plain": [
       "0.42406761190587683"
      ]
     },
     "execution_count": 11,
     "metadata": {},
     "output_type": "execute_result"
    }
   ],
   "source": [
    "get_self_corr('avg')"
   ]
  },
  {
   "cell_type": "code",
   "execution_count": 12,
   "metadata": {},
   "outputs": [
    {
     "data": {
      "text/plain": [
       "0.5967835522092053"
      ]
     },
     "execution_count": 12,
     "metadata": {},
     "output_type": "execute_result"
    }
   ],
   "source": [
    "get_self_corr('OPS')"
   ]
  },
  {
   "cell_type": "code",
   "execution_count": 13,
   "metadata": {},
   "outputs": [],
   "source": [
    "agg={}\n",
    "for i in ['avg', 'G', 'AB', 'R', 'H','2B', '3B', 'HR', 'TB', 'RBI', 'SB', 'CS', 'BB', 'HBP', 'SO', 'GDP','SLG', 'OBP', 'E']:\n",
    "        agg[i]=get_self_corr(i)"
   ]
  },
  {
   "cell_type": "code",
   "execution_count": 14,
   "metadata": {},
   "outputs": [
    {
     "data": {
      "text/plain": [
       "{'avg': 0.42406761190587683,\n",
       " 'G': 0.2827945222858424,\n",
       " 'AB': 0.5345220495165055,\n",
       " 'R': 0.6226214086043601,\n",
       " 'H': 0.5780431760833786,\n",
       " '2B': 0.5150624616599283,\n",
       " '3B': 0.44087969523833104,\n",
       " 'HR': 0.7412597496536675,\n",
       " 'TB': 0.6343944721859059,\n",
       " 'RBI': 0.651947415097796,\n",
       " 'SB': 0.7260764196191684,\n",
       " 'CS': 0.5732143724546752,\n",
       " 'BB': 0.6537531676446489,\n",
       " 'HBP': 0.5627917256433479,\n",
       " 'SO': 0.5664029028016614,\n",
       " 'GDP': 0.4902224105414654,\n",
       " 'SLG': 0.6139336781007896,\n",
       " 'OBP': 0.5452616730047514,\n",
       " 'E': 0.6225595423969393}"
      ]
     },
     "execution_count": 14,
     "metadata": {},
     "output_type": "execute_result"
    }
   ],
   "source": [
    "agg"
   ]
  },
  {
   "cell_type": "code",
   "execution_count": 15,
   "metadata": {},
   "outputs": [],
   "source": [
    "#신뢰성이 있는 지표: 홈런, 삼진, 볼넷\n",
    "#신뢰성이 낮은 지표: 3루타, 타율,2루타,1루타 (누적 성적)"
   ]
  },
  {
   "cell_type": "code",
   "execution_count": 16,
   "metadata": {},
   "outputs": [
    {
     "data": {
      "text/html": [
       "<div>\n",
       "<style scoped>\n",
       "    .dataframe tbody tr th:only-of-type {\n",
       "        vertical-align: middle;\n",
       "    }\n",
       "\n",
       "    .dataframe tbody tr th {\n",
       "        vertical-align: top;\n",
       "    }\n",
       "\n",
       "    .dataframe thead th {\n",
       "        text-align: right;\n",
       "    }\n",
       "</style>\n",
       "<table border=\"1\" class=\"dataframe\">\n",
       "  <thead>\n",
       "    <tr style=\"text-align: right;\">\n",
       "      <th></th>\n",
       "      <th>batter_id</th>\n",
       "      <th>batter_name</th>\n",
       "      <th>year</th>\n",
       "      <th>team</th>\n",
       "      <th>avg</th>\n",
       "      <th>G</th>\n",
       "      <th>AB</th>\n",
       "      <th>R</th>\n",
       "      <th>H</th>\n",
       "      <th>2B</th>\n",
       "      <th>...</th>\n",
       "      <th>GDP</th>\n",
       "      <th>SLG</th>\n",
       "      <th>OBP</th>\n",
       "      <th>E</th>\n",
       "      <th>height/weight</th>\n",
       "      <th>year_born</th>\n",
       "      <th>position</th>\n",
       "      <th>career</th>\n",
       "      <th>starting_salary</th>\n",
       "      <th>OPS</th>\n",
       "    </tr>\n",
       "  </thead>\n",
       "  <tbody>\n",
       "    <tr>\n",
       "      <th>0</th>\n",
       "      <td>0</td>\n",
       "      <td>가르시아</td>\n",
       "      <td>2018</td>\n",
       "      <td>LG</td>\n",
       "      <td>0.339</td>\n",
       "      <td>50</td>\n",
       "      <td>183</td>\n",
       "      <td>27</td>\n",
       "      <td>62</td>\n",
       "      <td>9</td>\n",
       "      <td>...</td>\n",
       "      <td>3</td>\n",
       "      <td>0.519</td>\n",
       "      <td>0.383</td>\n",
       "      <td>9</td>\n",
       "      <td>177cm/93kg</td>\n",
       "      <td>1985년 04월 12일</td>\n",
       "      <td>내야수(우투우타)</td>\n",
       "      <td>쿠바 Ciego de Avila Maximo Gomez Baez(대)</td>\n",
       "      <td>NaN</td>\n",
       "      <td>0.902</td>\n",
       "    </tr>\n",
       "    <tr>\n",
       "      <th>1</th>\n",
       "      <td>1</td>\n",
       "      <td>강경학</td>\n",
       "      <td>2011</td>\n",
       "      <td>한화</td>\n",
       "      <td>0.000</td>\n",
       "      <td>2</td>\n",
       "      <td>1</td>\n",
       "      <td>0</td>\n",
       "      <td>0</td>\n",
       "      <td>0</td>\n",
       "      <td>...</td>\n",
       "      <td>0</td>\n",
       "      <td>0.000</td>\n",
       "      <td>0.000</td>\n",
       "      <td>1</td>\n",
       "      <td>180cm/72kg</td>\n",
       "      <td>1992년 08월 11일</td>\n",
       "      <td>내야수(우투좌타)</td>\n",
       "      <td>광주대성초-광주동성중-광주동성고</td>\n",
       "      <td>10000만원</td>\n",
       "      <td>0.000</td>\n",
       "    </tr>\n",
       "    <tr>\n",
       "      <th>2</th>\n",
       "      <td>1</td>\n",
       "      <td>강경학</td>\n",
       "      <td>2014</td>\n",
       "      <td>한화</td>\n",
       "      <td>0.221</td>\n",
       "      <td>41</td>\n",
       "      <td>86</td>\n",
       "      <td>11</td>\n",
       "      <td>19</td>\n",
       "      <td>2</td>\n",
       "      <td>...</td>\n",
       "      <td>1</td>\n",
       "      <td>0.349</td>\n",
       "      <td>0.337</td>\n",
       "      <td>6</td>\n",
       "      <td>180cm/72kg</td>\n",
       "      <td>1992년 08월 11일</td>\n",
       "      <td>내야수(우투좌타)</td>\n",
       "      <td>광주대성초-광주동성중-광주동성고</td>\n",
       "      <td>10000만원</td>\n",
       "      <td>0.686</td>\n",
       "    </tr>\n",
       "    <tr>\n",
       "      <th>3</th>\n",
       "      <td>1</td>\n",
       "      <td>강경학</td>\n",
       "      <td>2015</td>\n",
       "      <td>한화</td>\n",
       "      <td>0.257</td>\n",
       "      <td>120</td>\n",
       "      <td>311</td>\n",
       "      <td>50</td>\n",
       "      <td>80</td>\n",
       "      <td>7</td>\n",
       "      <td>...</td>\n",
       "      <td>3</td>\n",
       "      <td>0.325</td>\n",
       "      <td>0.348</td>\n",
       "      <td>15</td>\n",
       "      <td>180cm/72kg</td>\n",
       "      <td>1992년 08월 11일</td>\n",
       "      <td>내야수(우투좌타)</td>\n",
       "      <td>광주대성초-광주동성중-광주동성고</td>\n",
       "      <td>10000만원</td>\n",
       "      <td>0.673</td>\n",
       "    </tr>\n",
       "    <tr>\n",
       "      <th>4</th>\n",
       "      <td>1</td>\n",
       "      <td>강경학</td>\n",
       "      <td>2016</td>\n",
       "      <td>한화</td>\n",
       "      <td>0.158</td>\n",
       "      <td>46</td>\n",
       "      <td>101</td>\n",
       "      <td>16</td>\n",
       "      <td>16</td>\n",
       "      <td>3</td>\n",
       "      <td>...</td>\n",
       "      <td>5</td>\n",
       "      <td>0.257</td>\n",
       "      <td>0.232</td>\n",
       "      <td>7</td>\n",
       "      <td>180cm/72kg</td>\n",
       "      <td>1992년 08월 11일</td>\n",
       "      <td>내야수(우투좌타)</td>\n",
       "      <td>광주대성초-광주동성중-광주동성고</td>\n",
       "      <td>10000만원</td>\n",
       "      <td>0.489</td>\n",
       "    </tr>\n",
       "  </tbody>\n",
       "</table>\n",
       "<p>5 rows × 29 columns</p>\n",
       "</div>"
      ],
      "text/plain": [
       "   batter_id batter_name  year team    avg    G   AB   R   H  2B  ...  GDP  \\\n",
       "0          0        가르시아  2018   LG  0.339   50  183  27  62   9  ...    3   \n",
       "1          1         강경학  2011   한화  0.000    2    1   0   0   0  ...    0   \n",
       "2          1         강경학  2014   한화  0.221   41   86  11  19   2  ...    1   \n",
       "3          1         강경학  2015   한화  0.257  120  311  50  80   7  ...    3   \n",
       "4          1         강경학  2016   한화  0.158   46  101  16  16   3  ...    5   \n",
       "\n",
       "     SLG    OBP   E  height/weight      year_born   position  \\\n",
       "0  0.519  0.383   9     177cm/93kg  1985년 04월 12일  내야수(우투우타)   \n",
       "1  0.000  0.000   1     180cm/72kg  1992년 08월 11일  내야수(우투좌타)   \n",
       "2  0.349  0.337   6     180cm/72kg  1992년 08월 11일  내야수(우투좌타)   \n",
       "3  0.325  0.348  15     180cm/72kg  1992년 08월 11일  내야수(우투좌타)   \n",
       "4  0.257  0.232   7     180cm/72kg  1992년 08월 11일  내야수(우투좌타)   \n",
       "\n",
       "                                   career  starting_salary    OPS  \n",
       "0  쿠바 Ciego de Avila Maximo Gomez Baez(대)              NaN  0.902  \n",
       "1                       광주대성초-광주동성중-광주동성고          10000만원  0.000  \n",
       "2                       광주대성초-광주동성중-광주동성고          10000만원  0.686  \n",
       "3                       광주대성초-광주동성중-광주동성고          10000만원  0.673  \n",
       "4                       광주대성초-광주동성중-광주동성고          10000만원  0.489  \n",
       "\n",
       "[5 rows x 29 columns]"
      ]
     },
     "execution_count": 16,
     "metadata": {},
     "output_type": "execute_result"
    }
   ],
   "source": [
    "regular.head()"
   ]
  },
  {
   "cell_type": "code",
   "execution_count": 17,
   "metadata": {},
   "outputs": [],
   "source": [
    "total_2BnAB=[]\n",
    "total_3BnAB=[]\n",
    "total_avg=[]\n",
    "for i in range(len(regular)):\n",
    "    a=regular.loc[(regular['batter_name']==regular['batter_name'])&(regular['year']<regular['year'].iloc[i])]\n",
    "    total_2BnAB.append(a['2B'].sum()/a['AB'].sum())\n",
    "    total_3BnAB.append(a['3B'].sum()/a['AB'].sum())\n",
    "    total_avg.append((a['avg']*a['AB']).sum()/a['AB'].sum())                                                                \n",
    "                                                                   "
   ]
  },
  {
   "cell_type": "code",
   "execution_count": 18,
   "metadata": {},
   "outputs": [],
   "source": [
    "regular['total_2BnAB'] = total_2BnAB\n",
    "regular['total_3BnAB'] = total_3BnAB\n",
    "regular['total_avg'] = total_avg"
   ]
  },
  {
   "cell_type": "code",
   "execution_count": null,
   "metadata": {},
   "outputs": [],
   "source": []
  },
  {
   "cell_type": "code",
   "execution_count": 19,
   "metadata": {},
   "outputs": [
    {
     "data": {
      "text/plain": [
       "0.022613065326633167"
      ]
     },
     "execution_count": 19,
     "metadata": {},
     "output_type": "execute_result"
    }
   ],
   "source": [
    "regular.loc[(regular['batter_name']=='강경학')&(regular['year']<2016),'2B'].sum()/regular.loc[(regular['batter_name']=='강경학')&(regular['year']<2016),'AB'].sum()"
   ]
  },
  {
   "cell_type": "code",
   "execution_count": 20,
   "metadata": {},
   "outputs": [
    {
     "data": {
      "text/plain": [
       "0.017587939698492462"
      ]
     },
     "execution_count": 20,
     "metadata": {},
     "output_type": "execute_result"
    }
   ],
   "source": [
    "regular.loc[(regular['batter_name']=='강경학')&(regular['year']<2016),'3B'].sum()/regular.loc[(regular['batter_name']=='강경학')&(regular['year']<2016),'AB'].sum()"
   ]
  },
  {
   "cell_type": "code",
   "execution_count": 21,
   "metadata": {},
   "outputs": [
    {
     "data": {
      "text/plain": [
       "0.24857537688442213"
      ]
     },
     "execution_count": 21,
     "metadata": {},
     "output_type": "execute_result"
    }
   ],
   "source": [
    "a=regular.loc[(regular['batter_name']=='강경학')&(regular['year']<2016)]\n",
    "(a['avg']*a['AB']).sum()/a['AB'].sum()"
   ]
  },
  {
   "cell_type": "code",
   "execution_count": null,
   "metadata": {},
   "outputs": [],
   "source": []
  },
  {
   "cell_type": "code",
   "execution_count": 22,
   "metadata": {},
   "outputs": [
    {
     "data": {
      "text/plain": [
       "array(['가르시아', '강경학', '진갑용', '강민호', '강백호', '강병식', '강봉규', '강승호', '강정호',\n",
       "       '강한울', '고동진', '고메즈', '고영민', '이종환', '고종욱', '구자욱', '국해성', '박재홍',\n",
       "       '권용관', '권희동', '김강민', '김경언', '김규민', '박재상', '문선재', '김동엽', '김동욱',\n",
       "       '김동주', '김동한', '김문호', '김민성', '김민식', '김민하', '김상수', '김상호', '김연훈',\n",
       "       '김선빈', '김성욱', '김성현', '김성훈', '연경흠', '김용의', '김원석', '김원섭', '김재율',\n",
       "       '김재현', '김재호', '김재환', '나바로', '김종호', '김주찬', '김주형', '김지수', '김태균',\n",
       "       '김태완', '김하성', '김헌곤', '김현수', '김혜성', '김회성', '나경민', '나성범', '나종덕',\n",
       "       '나주환', '나지완', '노수광', '노진혁', '대니돈', '러프', '로맥', '로메로', '로사리오',\n",
       "       '로티노', '로하스', '류지혁', '모창민', '문규현', '문우람', '민병헌', '박건우', '박경수',\n",
       "       '박계현', '박기남', '박기혁', '박동원', '박민우', '박병호', '박석민', '박세혁', '박승욱',\n",
       "       '박용근', '박용택', '박정권', '박정음', '박준서', '박준태', '박지규', '박진만', '박한이',\n",
       "       '박해민', '박헌도', '배영섭', '백상원', '백용환', '백창수', '버나디나', '번즈', '서건창',\n",
       "       '서동욱', '서상우', '손시헌', '손아섭', '손주인', '송광민', '송성문', '송지만', '스나이더',\n",
       "       '스크럭스', '신경현', '신명철', '신본기', '신성현', '신종길', '심우준', '안익훈', '안중열',\n",
       "       '안치용', '안치홍', '알드리지', '양석환', '양성우', '양의지', '오선진', '오재원', '오재일',\n",
       "       '오정복', '오지환', '오태곤', '용덕한', '우동균', '유강남', '유민상', '유선정', '이종범',\n",
       "       '유한준', '윤석민', '윤요섭', '이대수', '이대형', '이대호', '이동훈', '이명기', '이범호',\n",
       "       '이상호', '이성열', '이성우', '조동찬', '이양기', '이여상', '이영욱', '이용규', '이우민',\n",
       "       '이우성', '이원석', '이원재', '이인구', '이재원', '이정후', '이종욱', '이준호', '이지영',\n",
       "       '이진영', '이천웅', '이택근', '한상훈', '이해창', '이현곤', '이형종', '이홍구', '이흥련',\n",
       "       '이희근', '임병욱', '임재철', '임훈', '장민석', '장성우', '장성호', '장영석', '전준우',\n",
       "       '전현태', '정경운', '정근우', '정범모', '정보명', '정상호', '정성훈', '정수빈', '정수성',\n",
       "       '정은원', '정의윤', '정주현', '정진기', '정진호', '정현', '정현석', '정형식', '정훈', '조동화',\n",
       "       '조성환', '조수행', '조영훈', '조인성', '조중근', '주효상', '지석훈', '지성준', '차일목',\n",
       "       '채상병', '채은성', '채태인', '초이스', '최경철', '최동수', '최승준', '최영진', '최원준',\n",
       "       '최윤석', '최재훈', '최정', '최정민', '최주환', '최준석', '최진행', '최항', '최형우', '칸투',\n",
       "       '테임즈', '피에', '하주석', '하준호', '한동민', '한동희', '허경민', '허도환', '현재윤', '호잉',\n",
       "       '홍성흔', '홍재호', '황재균', '황진수'], dtype=object)"
      ]
     },
     "execution_count": 22,
     "metadata": {},
     "output_type": "execute_result"
    }
   ],
   "source": [
    "regular1['batter_name'].unique()"
   ]
  },
  {
   "cell_type": "code",
   "execution_count": 23,
   "metadata": {},
   "outputs": [],
   "source": [
    "lag_1_OPS = []\n",
    "for i in range(len(regular)):\n",
    "    if len(regular.loc[(regular['batter_name'] == regular['batter_name'].iloc[i])&(regular['year']==regular['year'].iloc[i]-1)]['OPS'])==0:\n",
    "        lag_1_OPS.append(np.nan)\n",
    "    else:\n",
    "        lag_1_OPS.append(regular.loc[(regular['batter_name'] == regular['batter_name'].iloc[i])&(regular['year']==regular['year'].iloc[i]-1)]['OPS'].iloc[0])"
   ]
  },
  {
   "cell_type": "code",
   "execution_count": 24,
   "metadata": {},
   "outputs": [],
   "source": [
    "regular[\"lag_1_OPS\"] = lag_1_OPS"
   ]
  },
  {
   "cell_type": "code",
   "execution_count": 25,
   "metadata": {},
   "outputs": [],
   "source": [
    "lag_1_avg = []\n",
    "for i in range(len(regular)):\n",
    "    if len(regular.loc[(regular['batter_name'] == regular['batter_name'].iloc[i])&(regular['year']==regular['year'].iloc[i]-1)]['avg'])==0:\n",
    "        lag_1_avg.append(np.nan)\n",
    "    else:\n",
    "        lag_1_avg.append(regular.loc[(regular['batter_name'] == regular['batter_name'].iloc[i])&(regular['year']==regular['year'].iloc[i]-1)]['avg'].iloc[0])"
   ]
  },
  {
   "cell_type": "code",
   "execution_count": 26,
   "metadata": {},
   "outputs": [],
   "source": [
    "regular[\"lag_1_avg\"] = lag_1_avg"
   ]
  },
  {
   "cell_type": "code",
   "execution_count": 27,
   "metadata": {},
   "outputs": [
    {
     "name": "stdout",
     "output_type": "stream",
     "text": [
      "avg\n",
      "G\n",
      "AB\n",
      "R\n",
      "H\n",
      "2B\n",
      "3B\n",
      "HR\n",
      "TB\n",
      "RBI\n",
      "SB\n",
      "CS\n",
      "BB\n",
      "HBP\n",
      "SO\n",
      "GDP\n",
      "SLG\n",
      "OBP\n",
      "E\n"
     ]
    }
   ],
   "source": [
    "for j in ['avg', 'G', 'AB', 'R', 'H','2B', '3B', 'HR', 'TB', 'RBI', 'SB', 'CS', 'BB', 'HBP', 'SO', 'GDP','SLG', 'OBP', 'E']:\n",
    "    lag_1_avg=[]\n",
    "    for i in range(len(regular)):\n",
    "        if len(regular.loc[(regular['batter_name'] == regular['batter_name'].iloc[i])&(regular['year']==regular['year'].iloc[i]-1)][j])==0:\n",
    "            lag_1_avg.append(np.nan)\n",
    "        else:\n",
    "            lag_1_avg.append(regular.loc[(regular['batter_name'] == regular['batter_name'].iloc[i])&(regular['year']==regular['year'].iloc[i]-1)][j].iloc[0])\n",
    "    regular['lag_2_' + j] = lag_1_avg\n",
    "    print(j)"
   ]
  },
  {
   "cell_type": "code",
   "execution_count": 28,
   "metadata": {},
   "outputs": [
    {
     "data": {
      "text/plain": [
       "Index(['batter_id', 'batter_name', 'year', 'team', 'avg', 'G', 'AB', 'R', 'H',\n",
       "       '2B', '3B', 'HR', 'TB', 'RBI', 'SB', 'CS', 'BB', 'HBP', 'SO', 'GDP',\n",
       "       'SLG', 'OBP', 'E', 'height/weight', 'year_born', 'position', 'career',\n",
       "       'starting_salary', 'OPS', 'total_2BnAB', 'total_3BnAB', 'total_avg',\n",
       "       'lag_1_OPS', 'lag_1_avg', 'lag_2_avg', 'lag_2_G', 'lag_2_AB', 'lag_2_R',\n",
       "       'lag_2_H', 'lag_2_2B', 'lag_2_3B', 'lag_2_HR', 'lag_2_TB', 'lag_2_RBI',\n",
       "       'lag_2_SB', 'lag_2_CS', 'lag_2_BB', 'lag_2_HBP', 'lag_2_SO',\n",
       "       'lag_2_GDP', 'lag_2_SLG', 'lag_2_OBP', 'lag_2_E'],\n",
       "      dtype='object')"
      ]
     },
     "execution_count": 28,
     "metadata": {},
     "output_type": "execute_result"
    }
   ],
   "source": [
    "regular.columns"
   ]
  },
  {
   "cell_type": "code",
   "execution_count": 29,
   "metadata": {},
   "outputs": [],
   "source": [
    "regular = regular.loc[~regular['OPS'].isnull()]"
   ]
  },
  {
   "cell_type": "code",
   "execution_count": 30,
   "metadata": {},
   "outputs": [],
   "source": [
    "from sklearn.ensemble import RandomForestRegressor"
   ]
  },
  {
   "cell_type": "code",
   "execution_count": 31,
   "metadata": {},
   "outputs": [],
   "source": [
    "y = regular['OPS'] #output\n",
    "X=regular[['lag_1_OPS', 'lag_1_avg', 'lag_2_avg',\n",
    "       'lag_2_G', 'lag_2_AB', 'lag_2_R', 'lag_2_H', 'lag_2_2B', 'lag_2_3B',\n",
    "       'lag_2_HR', 'lag_2_TB', 'lag_2_RBI', 'lag_2_SB', 'lag_2_CS', 'lag_2_BB',\n",
    "       'lag_2_HBP', 'lag_2_SO', 'lag_2_GDP', 'lag_2_SLG', 'lag_2_OBP',\n",
    "       'lag_2_E']] #input"
   ]
  },
  {
   "cell_type": "code",
   "execution_count": 32,
   "metadata": {},
   "outputs": [],
   "source": [
    "rf = RandomForestRegressor(n_estimators = 500) #treemodel을 몇 개 만들어서 ensemble 시키느냐?"
   ]
  },
  {
   "cell_type": "code",
   "execution_count": 33,
   "metadata": {},
   "outputs": [
    {
     "data": {
      "text/plain": [
       "RandomForestRegressor(n_estimators=500)"
      ]
     },
     "execution_count": 33,
     "metadata": {},
     "output_type": "execute_result"
    }
   ],
   "source": [
    "rf.fit(X.fillna(-1),y)"
   ]
  },
  {
   "cell_type": "code",
   "execution_count": 34,
   "metadata": {},
   "outputs": [
    {
     "ename": "KeyError",
     "evalue": "\"['lag_1_CS', 'lag_1_3B', 'lag_1_R', 'lag_1_2B', 'lag_1_BB', 'lag_1_SB', 'lag_1_H', 'lag_1_AB', 'lag_1_GDP', 'lag_1_SLG', 'lag_1_E', 'lag_1_SO', 'lag_1_OBP', 'lag_1_HR', 'lag_1_HBP', 'lag_1_TB', 'lag_1_G', 'lag_1_RBI'] not in index\"",
     "output_type": "error",
     "traceback": [
      "\u001b[1;31m---------------------------------------------------------------------------\u001b[0m",
      "\u001b[1;31mKeyError\u001b[0m                                  Traceback (most recent call last)",
      "\u001b[1;32m<ipython-input-34-ba01d38a1d9c>\u001b[0m in \u001b[0;36m<module>\u001b[1;34m\u001b[0m\n\u001b[0;32m      2\u001b[0m \u001b[0mtest\u001b[0m \u001b[1;33m=\u001b[0m \u001b[0mregular\u001b[0m\u001b[1;33m.\u001b[0m\u001b[0mloc\u001b[0m\u001b[1;33m[\u001b[0m\u001b[0mregular\u001b[0m\u001b[1;33m[\u001b[0m\u001b[1;34m'year'\u001b[0m\u001b[1;33m]\u001b[0m\u001b[1;33m==\u001b[0m\u001b[1;36m2018\u001b[0m\u001b[1;33m,\u001b[0m\u001b[1;33m]\u001b[0m\u001b[1;33m\u001b[0m\u001b[1;33m\u001b[0m\u001b[0m\n\u001b[0;32m      3\u001b[0m \u001b[0my_train\u001b[0m \u001b[1;33m=\u001b[0m \u001b[0mtrain\u001b[0m\u001b[1;33m[\u001b[0m\u001b[1;34m'OPS'\u001b[0m\u001b[1;33m]\u001b[0m\u001b[1;33m\u001b[0m\u001b[1;33m\u001b[0m\u001b[0m\n\u001b[1;32m----> 4\u001b[1;33m X_train = train[['lag_1_OPS', 'lag_1_avg', 'lag_1_G',\n\u001b[0m\u001b[0;32m      5\u001b[0m        \u001b[1;34m'lag_1_AB'\u001b[0m\u001b[1;33m,\u001b[0m \u001b[1;34m'lag_1_R'\u001b[0m\u001b[1;33m,\u001b[0m \u001b[1;34m'lag_1_H'\u001b[0m\u001b[1;33m,\u001b[0m \u001b[1;34m'lag_1_2B'\u001b[0m\u001b[1;33m,\u001b[0m \u001b[1;34m'lag_1_3B'\u001b[0m\u001b[1;33m,\u001b[0m \u001b[1;34m'lag_1_HR'\u001b[0m\u001b[1;33m,\u001b[0m\u001b[1;33m\u001b[0m\u001b[1;33m\u001b[0m\u001b[0m\n\u001b[0;32m      6\u001b[0m        \u001b[1;34m'lag_1_TB'\u001b[0m\u001b[1;33m,\u001b[0m \u001b[1;34m'lag_1_RBI'\u001b[0m\u001b[1;33m,\u001b[0m \u001b[1;34m'lag_1_SB'\u001b[0m\u001b[1;33m,\u001b[0m \u001b[1;34m'lag_1_CS'\u001b[0m\u001b[1;33m,\u001b[0m \u001b[1;34m'lag_1_BB'\u001b[0m\u001b[1;33m,\u001b[0m\u001b[1;33m\u001b[0m\u001b[1;33m\u001b[0m\u001b[0m\n",
      "\u001b[1;32mC:\\Anaconda\\lib\\site-packages\\pandas\\core\\frame.py\u001b[0m in \u001b[0;36m__getitem__\u001b[1;34m(self, key)\u001b[0m\n\u001b[0;32m   2906\u001b[0m             \u001b[1;32mif\u001b[0m \u001b[0mis_iterator\u001b[0m\u001b[1;33m(\u001b[0m\u001b[0mkey\u001b[0m\u001b[1;33m)\u001b[0m\u001b[1;33m:\u001b[0m\u001b[1;33m\u001b[0m\u001b[1;33m\u001b[0m\u001b[0m\n\u001b[0;32m   2907\u001b[0m                 \u001b[0mkey\u001b[0m \u001b[1;33m=\u001b[0m \u001b[0mlist\u001b[0m\u001b[1;33m(\u001b[0m\u001b[0mkey\u001b[0m\u001b[1;33m)\u001b[0m\u001b[1;33m\u001b[0m\u001b[1;33m\u001b[0m\u001b[0m\n\u001b[1;32m-> 2908\u001b[1;33m             \u001b[0mindexer\u001b[0m \u001b[1;33m=\u001b[0m \u001b[0mself\u001b[0m\u001b[1;33m.\u001b[0m\u001b[0mloc\u001b[0m\u001b[1;33m.\u001b[0m\u001b[0m_get_listlike_indexer\u001b[0m\u001b[1;33m(\u001b[0m\u001b[0mkey\u001b[0m\u001b[1;33m,\u001b[0m \u001b[0maxis\u001b[0m\u001b[1;33m=\u001b[0m\u001b[1;36m1\u001b[0m\u001b[1;33m,\u001b[0m \u001b[0mraise_missing\u001b[0m\u001b[1;33m=\u001b[0m\u001b[1;32mTrue\u001b[0m\u001b[1;33m)\u001b[0m\u001b[1;33m[\u001b[0m\u001b[1;36m1\u001b[0m\u001b[1;33m]\u001b[0m\u001b[1;33m\u001b[0m\u001b[1;33m\u001b[0m\u001b[0m\n\u001b[0m\u001b[0;32m   2909\u001b[0m \u001b[1;33m\u001b[0m\u001b[0m\n\u001b[0;32m   2910\u001b[0m         \u001b[1;31m# take() does not accept boolean indexers\u001b[0m\u001b[1;33m\u001b[0m\u001b[1;33m\u001b[0m\u001b[1;33m\u001b[0m\u001b[0m\n",
      "\u001b[1;32mC:\\Anaconda\\lib\\site-packages\\pandas\\core\\indexing.py\u001b[0m in \u001b[0;36m_get_listlike_indexer\u001b[1;34m(self, key, axis, raise_missing)\u001b[0m\n\u001b[0;32m   1252\u001b[0m             \u001b[0mkeyarr\u001b[0m\u001b[1;33m,\u001b[0m \u001b[0mindexer\u001b[0m\u001b[1;33m,\u001b[0m \u001b[0mnew_indexer\u001b[0m \u001b[1;33m=\u001b[0m \u001b[0max\u001b[0m\u001b[1;33m.\u001b[0m\u001b[0m_reindex_non_unique\u001b[0m\u001b[1;33m(\u001b[0m\u001b[0mkeyarr\u001b[0m\u001b[1;33m)\u001b[0m\u001b[1;33m\u001b[0m\u001b[1;33m\u001b[0m\u001b[0m\n\u001b[0;32m   1253\u001b[0m \u001b[1;33m\u001b[0m\u001b[0m\n\u001b[1;32m-> 1254\u001b[1;33m         \u001b[0mself\u001b[0m\u001b[1;33m.\u001b[0m\u001b[0m_validate_read_indexer\u001b[0m\u001b[1;33m(\u001b[0m\u001b[0mkeyarr\u001b[0m\u001b[1;33m,\u001b[0m \u001b[0mindexer\u001b[0m\u001b[1;33m,\u001b[0m \u001b[0maxis\u001b[0m\u001b[1;33m,\u001b[0m \u001b[0mraise_missing\u001b[0m\u001b[1;33m=\u001b[0m\u001b[0mraise_missing\u001b[0m\u001b[1;33m)\u001b[0m\u001b[1;33m\u001b[0m\u001b[1;33m\u001b[0m\u001b[0m\n\u001b[0m\u001b[0;32m   1255\u001b[0m         \u001b[1;32mreturn\u001b[0m \u001b[0mkeyarr\u001b[0m\u001b[1;33m,\u001b[0m \u001b[0mindexer\u001b[0m\u001b[1;33m\u001b[0m\u001b[1;33m\u001b[0m\u001b[0m\n\u001b[0;32m   1256\u001b[0m \u001b[1;33m\u001b[0m\u001b[0m\n",
      "\u001b[1;32mC:\\Anaconda\\lib\\site-packages\\pandas\\core\\indexing.py\u001b[0m in \u001b[0;36m_validate_read_indexer\u001b[1;34m(self, key, indexer, axis, raise_missing)\u001b[0m\n\u001b[0;32m   1302\u001b[0m             \u001b[1;32mif\u001b[0m \u001b[0mraise_missing\u001b[0m\u001b[1;33m:\u001b[0m\u001b[1;33m\u001b[0m\u001b[1;33m\u001b[0m\u001b[0m\n\u001b[0;32m   1303\u001b[0m                 \u001b[0mnot_found\u001b[0m \u001b[1;33m=\u001b[0m \u001b[0mlist\u001b[0m\u001b[1;33m(\u001b[0m\u001b[0mset\u001b[0m\u001b[1;33m(\u001b[0m\u001b[0mkey\u001b[0m\u001b[1;33m)\u001b[0m \u001b[1;33m-\u001b[0m \u001b[0mset\u001b[0m\u001b[1;33m(\u001b[0m\u001b[0max\u001b[0m\u001b[1;33m)\u001b[0m\u001b[1;33m)\u001b[0m\u001b[1;33m\u001b[0m\u001b[1;33m\u001b[0m\u001b[0m\n\u001b[1;32m-> 1304\u001b[1;33m                 \u001b[1;32mraise\u001b[0m \u001b[0mKeyError\u001b[0m\u001b[1;33m(\u001b[0m\u001b[1;34mf\"{not_found} not in index\"\u001b[0m\u001b[1;33m)\u001b[0m\u001b[1;33m\u001b[0m\u001b[1;33m\u001b[0m\u001b[0m\n\u001b[0m\u001b[0;32m   1305\u001b[0m \u001b[1;33m\u001b[0m\u001b[0m\n\u001b[0;32m   1306\u001b[0m             \u001b[1;31m# we skip the warning on Categorical\u001b[0m\u001b[1;33m\u001b[0m\u001b[1;33m\u001b[0m\u001b[1;33m\u001b[0m\u001b[0m\n",
      "\u001b[1;31mKeyError\u001b[0m: \"['lag_1_CS', 'lag_1_3B', 'lag_1_R', 'lag_1_2B', 'lag_1_BB', 'lag_1_SB', 'lag_1_H', 'lag_1_AB', 'lag_1_GDP', 'lag_1_SLG', 'lag_1_E', 'lag_1_SO', 'lag_1_OBP', 'lag_1_HR', 'lag_1_HBP', 'lag_1_TB', 'lag_1_G', 'lag_1_RBI'] not in index\""
     ]
    }
   ],
   "source": [
    "train = regular.loc[regular['year']<2017,]\n",
    "test = regular.loc[regular['year']==2018,]\n",
    "y_train = train['OPS']\n",
    "X_train = train[['lag_1_OPS', 'lag_1_avg', 'lag_1_G',\n",
    "       'lag_1_AB', 'lag_1_R', 'lag_1_H', 'lag_1_2B', 'lag_1_3B', 'lag_1_HR',\n",
    "       'lag_1_TB', 'lag_1_RBI', 'lag_1_SB', 'lag_1_CS', 'lag_1_BB',\n",
    "       'lag_1_HBP', 'lag_1_SO', 'lag_1_GDP', 'lag_1_SLG', 'lag_1_OBP',\n",
    "       'lag_1_E']]"
   ]
  },
  {
   "cell_type": "code",
   "execution_count": null,
   "metadata": {},
   "outputs": [],
   "source": [
    "y_test= test['OPS']\n",
    "X_test = test[['lag_1_OPS', 'lag_1_avg', 'lag_1_G',\n",
    "       'lag_1_AB', 'lag_1_R', 'lag_1_H', 'lag_1_2B', 'lag_1_3B', 'lag_1_HR',\n",
    "       'lag_1_TB', 'lag_1_RBI', 'lag_1_SB', 'lag_1_CS', 'lag_1_BB',\n",
    "       'lag_1_HBP', 'lag_1_SO', 'lag_1_GDP', 'lag_1_SLG', 'lag_1_OBP',\n",
    "       'lag_1_E']]"
   ]
  },
  {
   "cell_type": "code",
   "execution_count": null,
   "metadata": {},
   "outputs": [],
   "source": [
    "rf = RandomForestRegressor(n_estimators = 500)\n",
    "rf.fit(X_train.fillna(-1),y_train,sample_weight = train[\"AB\"])"
   ]
  },
  {
   "cell_type": "code",
   "execution_count": null,
   "metadata": {},
   "outputs": [],
   "source": [
    "pred=rf.predict(X_test.fillna(-1))"
   ]
  },
  {
   "cell_type": "code",
   "execution_count": null,
   "metadata": {},
   "outputs": [],
   "source": [
    "real = test['OPS']\n",
    "ab = test['AB']"
   ]
  },
  {
   "cell_type": "code",
   "execution_count": null,
   "metadata": {},
   "outputs": [],
   "source": [
    "#wrmse\n",
    "from sklearn.metrics import mean_squared_error\n",
    "mean_squared_error(real,pred,sample_weight = ab)**0.5"
   ]
  },
  {
   "cell_type": "code",
   "execution_count": null,
   "metadata": {},
   "outputs": [],
   "source": []
  },
  {
   "cell_type": "code",
   "execution_count": null,
   "metadata": {},
   "outputs": [],
   "source": [
    "pred,real"
   ]
  }
 ],
 "metadata": {
  "kernelspec": {
   "display_name": "Python 3",
   "language": "python",
   "name": "python3"
  },
  "language_info": {
   "codemirror_mode": {
    "name": "ipython",
    "version": 3
   },
   "file_extension": ".py",
   "mimetype": "text/x-python",
   "name": "python",
   "nbconvert_exporter": "python",
   "pygments_lexer": "ipython3",
   "version": "3.8.5"
  }
 },
 "nbformat": 4,
 "nbformat_minor": 4
}
